{
  "nbformat": 4,
  "nbformat_minor": 0,
  "metadata": {
    "colab": {
      "provenance": [],
      "authorship_tag": "ABX9TyOmEbLnJsXooKsmjooensNa",
      "include_colab_link": true
    },
    "kernelspec": {
      "name": "python3",
      "display_name": "Python 3"
    },
    "language_info": {
      "name": "python"
    }
  },
  "cells": [
    {
      "cell_type": "markdown",
      "metadata": {
        "id": "view-in-github",
        "colab_type": "text"
      },
      "source": [
        "<a href=\"https://colab.research.google.com/github/ariesharry/Machine-Learning/blob/main/Chapter_2_Logistic_Regression.ipynb\" target=\"_parent\"><img src=\"https://colab.research.google.com/assets/colab-badge.svg\" alt=\"Open In Colab\"/></a>"
      ]
    },
    {
      "cell_type": "code",
      "execution_count": 1,
      "metadata": {
        "colab": {
          "base_uri": "https://localhost:8080/"
        },
        "id": "di1ryVo54eTY",
        "outputId": "1429661d-8414-45e9-9544-9789d84335b7"
      },
      "outputs": [
        {
          "output_type": "stream",
          "name": "stdout",
          "text": [
            "Intercept: [-4.29840804]\n",
            "Coefficients: [[0.99998013 0.31431841]]\n",
            "Predictions: [1 1 1]\n"
          ]
        }
      ],
      "source": [
        "import numpy as np\n",
        "from sklearn.linear_model import LogisticRegression\n",
        "\n",
        "# Sample data\n",
        "x = np.array([[1, 2], [2, 3], [3, 1], [4, 2], [5, 4]])\n",
        "y = np.array([0, 0, 0, 1, 1])\n",
        "\n",
        "# Create the logistic regression model\n",
        "model = LogisticRegression()\n",
        "\n",
        "# Fit the model to the data\n",
        "model.fit(x, y)\n",
        "\n",
        "# Print the coefficients\n",
        "print(f'Intercept: {model.intercept_}')\n",
        "print(f'Coefficients: {model.coef_}')\n",
        "\n",
        "# Make predictions\n",
        "x_new = np.array([[6, 2], [7, 4], [8, 1]])\n",
        "y_pred = model.predict(x_new)\n",
        "print(f'Predictions: {y_pred}')\n"
      ]
    },
    {
      "cell_type": "code",
      "source": [],
      "metadata": {
        "id": "1RR-L_Qy4tV2"
      },
      "execution_count": null,
      "outputs": []
    }
  ]
}