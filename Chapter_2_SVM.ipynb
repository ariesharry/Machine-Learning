{
  "nbformat": 4,
  "nbformat_minor": 0,
  "metadata": {
    "colab": {
      "provenance": [],
      "authorship_tag": "ABX9TyMNeKuA2EhVgo6iv/0oovr8",
      "include_colab_link": true
    },
    "kernelspec": {
      "name": "python3",
      "display_name": "Python 3"
    },
    "language_info": {
      "name": "python"
    }
  },
  "cells": [
    {
      "cell_type": "markdown",
      "metadata": {
        "id": "view-in-github",
        "colab_type": "text"
      },
      "source": [
        "<a href=\"https://colab.research.google.com/github/ariesharry/Machine-Learning/blob/main/Chapter_2_SVM.ipynb\" target=\"_parent\"><img src=\"https://colab.research.google.com/assets/colab-badge.svg\" alt=\"Open In Colab\"/></a>"
      ]
    },
    {
      "cell_type": "code",
      "execution_count": 2,
      "metadata": {
        "colab": {
          "base_uri": "https://localhost:8080/"
        },
        "id": "N5gPkpHn6F2d",
        "outputId": "70c20524-8a9a-4837-c18c-1d25ede1d785"
      },
      "outputs": [
        {
          "output_type": "stream",
          "name": "stdout",
          "text": [
            "[1 0 1 1 1 0 1 1 1 1 1 0 1 1 1 1 1 1 0 0 1 1 1 1 1 1 0 1 0 0 1 1 0 1 0 1 0\n",
            " 0 0 1 0 1 1 1 0 0 1 1 1 0 1 1 1 1 1 0 0 1 1 1 0 0 1 1 1 0 1 1 1 1 1 1 0 1\n",
            " 0 1 0 1 0 0 1 0 0 0 0 1 1 1 1 0 0 0 0 1 0 0 1 0 1 1]\n"
          ]
        }
      ],
      "source": [
        "from sklearn import svm\n",
        "from sklearn.datasets import make_classification\n",
        "\n",
        "# Generate some synthetic data\n",
        "X, y = make_classification(n_features=4, n_informative=2, n_redundant=0, random_state=0)\n",
        "\n",
        "# Create the model\n",
        "clf = svm.SVC(kernel='linear', C=1)\n",
        "\n",
        "# Train the model\n",
        "clf.fit(X, y)\n",
        "\n",
        "\n",
        "# Generate new data for predictions\n",
        "X_new, _ = make_classification(n_features=4, n_informative=2,\n",
        "                           n_redundant=0, random_state=1)\n",
        "\n",
        "# Predict on new data\n",
        "y_pred = clf.predict(X_new)\n",
        "print(y_pred)"
      ]
    },
    {
      "cell_type": "code",
      "source": [],
      "metadata": {
        "id": "I0gF1-7K6OWC"
      },
      "execution_count": null,
      "outputs": []
    }
  ]
}