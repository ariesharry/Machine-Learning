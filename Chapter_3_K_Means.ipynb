{
  "nbformat": 4,
  "nbformat_minor": 0,
  "metadata": {
    "colab": {
      "provenance": [],
      "authorship_tag": "ABX9TyP8QisvBphXRWya++e7QZ8h",
      "include_colab_link": true
    },
    "kernelspec": {
      "name": "python3",
      "display_name": "Python 3"
    },
    "language_info": {
      "name": "python"
    }
  },
  "cells": [
    {
      "cell_type": "markdown",
      "metadata": {
        "id": "view-in-github",
        "colab_type": "text"
      },
      "source": [
        "<a href=\"https://colab.research.google.com/github/ariesharry/Machine-Learning/blob/main/Chapter_3_K_Means.ipynb\" target=\"_parent\"><img src=\"https://colab.research.google.com/assets/colab-badge.svg\" alt=\"Open In Colab\"/></a>"
      ]
    },
    {
      "cell_type": "code",
      "execution_count": 1,
      "metadata": {
        "colab": {
          "base_uri": "https://localhost:8080/"
        },
        "id": "tHuAa7nm81IT",
        "outputId": "01f261f2-e473-4103-da66-4a02903e3c93"
      },
      "outputs": [
        {
          "output_type": "stream",
          "name": "stdout",
          "text": [
            "[2 2 1 1 1 0 1 1 0 0 0 2 1 2 1 0 0 1 2 0 1 2 2 2 0 2 1 1 0 0 0 0 1 2 2 1 1\n",
            " 1 0 2 1 2 2 1 1 1 0 0 0 1 0 0 0 2 1 1 0 1 1 1 2 2 0 2 1 1 0 1 1 2 2 1 2 1\n",
            " 0 1 0 1 1 0 2 0 2 2 0 1 2 1 2 2 2 2 2 2 2 0 1 1 1 1]\n"
          ]
        }
      ],
      "source": [
        "from sklearn.cluster import KMeans\n",
        "import numpy as np\n",
        "\n",
        "# Generate some synthetic data\n",
        "X = np.random.rand(100, 2)\n",
        "\n",
        "# Create the model\n",
        "kmeans = KMeans(n_clusters=3, random_state=0).fit(X)\n",
        "\n",
        "# Predict the cluster for each data point\n",
        "y_pred = kmeans.predict(X)\n",
        "print(y_pred)"
      ]
    },
    {
      "cell_type": "code",
      "source": [],
      "metadata": {
        "id": "Q1VtxhUx8-BW"
      },
      "execution_count": null,
      "outputs": []
    }
  ]
}