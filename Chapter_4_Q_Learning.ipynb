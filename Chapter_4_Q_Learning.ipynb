{
  "nbformat": 4,
  "nbformat_minor": 0,
  "metadata": {
    "colab": {
      "provenance": [],
      "authorship_tag": "ABX9TyNfOPXLzenV0Zn8h82FdOEI",
      "include_colab_link": true
    },
    "kernelspec": {
      "name": "python3",
      "display_name": "Python 3"
    },
    "language_info": {
      "name": "python"
    }
  },
  "cells": [
    {
      "cell_type": "markdown",
      "metadata": {
        "id": "view-in-github",
        "colab_type": "text"
      },
      "source": [
        "<a href=\"https://colab.research.google.com/github/ariesharry/Machine-Learning/blob/main/Chapter_4_Q_Learning.ipynb\" target=\"_parent\"><img src=\"https://colab.research.google.com/assets/colab-badge.svg\" alt=\"Open In Colab\"/></a>"
      ]
    },
    {
      "cell_type": "code",
      "source": [
        "import numpy as np\n",
        "\n",
        "# Define the number of rows and columns in the grid-world\n",
        "n = 5\n",
        "m = 4\n",
        "\n",
        "# Define the number of states and actions\n",
        "num_states = n * m\n",
        "num_actions = 4\n",
        "\n",
        "# Define the Q-table with dimensions [states, actions]\n",
        "Q = np.zeros((num_states, num_actions))\n",
        "\n",
        "# Define the learning rate, discount factor and exploration rate\n",
        "alpha = 0.1\n",
        "gamma = 0.9\n",
        "epsilon = 0.1\n",
        "\n",
        "# Define the number of episodes\n",
        "num_episodes = 1000\n",
        "\n",
        "# Define the initial and goal state\n",
        "initial_state = 0\n",
        "goal_state = (n-1)*m + m-1\n",
        "\n",
        "# Define the take_action function\n",
        "def take_action(state, action):\n",
        "    if action == 0: # move up\n",
        "        next_state = state - m if state - m >= 0 else state\n",
        "    elif action == 1: # move down\n",
        "        next_state = state + m if state + m < num_states else state\n",
        "    elif action == 2: # move left\n",
        "        next_state = state - 1 if state % m != 0 else state\n",
        "    elif action == 3: # move right\n",
        "        next_state = state + 1 if (state + 1) % m != 0 else state\n",
        "    else:\n",
        "        next_state = state\n",
        "        \n",
        "    if next_state == goal_state:\n",
        "        reward = 1\n",
        "    else:\n",
        "        reward = 0\n",
        "    return next_state, reward\n",
        "\n",
        "# Q-Learning loop\n",
        "for episode in range(num_episodes):\n",
        "    # Initialize the state\n",
        "    state = initial_state\n",
        "    reached_goal = False\n",
        "    while not reached_goal:\n",
        "        # Select an action using a epsilon-greedy policy\n",
        "        if np.random.rand() < epsilon:\n",
        "            action = np.random.randint(num_actions)\n",
        "        else:\n",
        "            action = np.argmax(Q[state])\n",
        "        \n",
        "        # Take the action and observe the next state and reward\n",
        "        next_state, reward = take_action(state, action)\n",
        "        \n",
        "        if next_state == goal_state:\n",
        "            reached_goal = True\n",
        "            \n",
        "        # Update the Q-table\n",
        "        Q[state, action] = Q[state, action] + alpha*(reward + gamma*np.max(Q[next_state, :]) - Q[state, action])\n",
        "        \n",
        "        # Update the state\n",
        "        state = next_state\n"
      ],
      "metadata": {
        "id": "xoiDrfowvLkw"
      },
      "execution_count": null,
      "outputs": []
    },
    {
      "cell_type": "code",
      "source": [
        "print(state)"
      ],
      "metadata": {
        "id": "dCjjCTBIRkam",
        "colab": {
          "base_uri": "https://localhost:8080/"
        },
        "outputId": "95193d8c-9f43-46a1-cf63-74f772003dd9"
      },
      "execution_count": null,
      "outputs": [
        {
          "output_type": "stream",
          "name": "stdout",
          "text": [
            "19\n"
          ]
        }
      ]
    },
    {
      "cell_type": "code",
      "source": [],
      "metadata": {
        "id": "YOHPGvv47734"
      },
      "execution_count": null,
      "outputs": []
    }
  ]
}